{
 "cells": [
  {
   "cell_type": "markdown",
   "metadata": {},
   "source": [
    "# Read data from the CSV file\n",
    "\n",
    "#### First, try using the CSV package"
   ]
  },
  {
   "cell_type": "code",
   "execution_count": 29,
   "metadata": {},
   "outputs": [
    {
     "name": "stdout",
     "output_type": "stream",
     "text": [
      "['Fiscal Year', 'Agency Name', 'Last Name', 'First Name', 'Mid Init', 'Agency Start Date', 'Work Location Borough', 'Title Description', 'Leave Status as of June 30', 'Base Salary', 'Pay Basis', 'Regular Hours', 'Regular Gross Paid', 'OT Hours', 'Total OT Paid', 'Total Other Pay']\n"
     ]
    }
   ],
   "source": [
    "# with using csv module\n",
    "\n",
    "import csv\n",
    "\n",
    "with open('Citywide_Payroll_Data__Fiscal_Year_.csv','r') as my_file:\n",
    "    my_reader = csv.reader(my_file)\n",
    "    fields = next(my_reader)\n",
    "print (fields)"
   ]
  },
  {
   "cell_type": "code",
   "execution_count": 30,
   "metadata": {},
   "outputs": [
    {
     "name": "stdout",
     "output_type": "stream",
     "text": [
      "Fiscal Year,Agency Name,Last Name,First Name,Mid Init,Agency Start Date,Work Location Borough,Title Description,Leave Status as of June 30,Base Salary,Pay Basis,Regular Hours,Regular Gross Paid,OT Hours,Total OT Paid,Total Other Pay\n",
      "\n"
     ]
    }
   ],
   "source": [
    "# without using csv module\n",
    "\n",
    "my_file = open('Citywide_Payroll_Data__Fiscal_Year_.csv','r')\n",
    "#my_reader = csv.reader(my_file)\n",
    "fields = next(my_file)\n",
    "print (fields)"
   ]
  },
  {
   "cell_type": "code",
   "execution_count": 3,
   "metadata": {},
   "outputs": [
    {
     "name": "stdout",
     "output_type": "stream",
     "text": [
      "\n",
      "no. of rows = 6\n",
      "\n",
      "Field names are: Fiscal Year, Agency Name, Last Name, First Name, Mid Init, Agency Start Date, Work Location Borough, Title Description, Leave Status as of June 30, Base Salary, Pay Basis, Regular Hours, Regular Gross Paid, OT Hours, Total OT Paid, Total Other Pay\n",
      "\n",
      "The first 5 columns of the first 3 rows are:\n",
      "\n",
      "2016, DISTRICT ATTORNEY-MANHATTAN   , ABA'AHMID, RAHASHEEM, E\n",
      "\n",
      "2016, DISTRICT ATTORNEY-MANHATTAN   , ABENSUR, MARGARET, \n",
      "\n",
      "2016, DISTRICT ATTORNEY-MANHATTAN   , ABOUNAOUM, ANDREA, L\n",
      "\n"
     ]
    }
   ],
   "source": [
    "import csv\n",
    "\n",
    "fields = []\n",
    "rows = []\n",
    "\n",
    "with open('mytest_csvfile.csv','r') as my_file:\n",
    "    my_reader = csv.reader(my_file)\n",
    "    fields = next(my_reader)\n",
    "    #my_file.seek(0)\n",
    "    for row in my_reader:\n",
    "        rows.append(row)\n",
    "        #print(', '.join(row))\n",
    "\n",
    "#print('\\n'+', '.join(row))\n",
    "#print(fields,'\\n')\n",
    "#print(rows)\n",
    "\n",
    "print('\\nno. of rows = %d\\n'%(my_reader.line_num))\n",
    "\n",
    "print('Field names are: '+', '.join(field for field in fields)+'\\n')\n",
    "\n",
    "print('The first 5 columns of the first 3 rows are:\\n')\n",
    "for row in rows[:3]:\n",
    "    print(', '.join(row[:5])+'\\n')\n",
    "#    for col in row:\n",
    "#        print('%10s'%col)\n",
    "#    print('\\n')\n"
   ]
  },
  {
   "cell_type": "code",
   "execution_count": null,
   "metadata": {
    "collapsed": true
   },
   "outputs": [],
   "source": [
    "''' \n",
    "memo:\n",
    "    you may use Python vanilla file i/o to deal with files, \n",
    "    but in that way you need to take care of everything in detail. \n",
    "    It gives you a lot of flexibility but it could also be tedious. \n",
    "    CSV package and pandas packages try to optimize or automate some part of those routine operation \n",
    "    so that make the tasks more efficient. \n",
    "    \n",
    "    ', '.join(row) only operate on a single list \n",
    "'''"
   ]
  },
  {
   "cell_type": "markdown",
   "metadata": {},
   "source": [
    "#### Then, try using Pandas package. Compare the strength and weakness of each method."
   ]
  },
  {
   "cell_type": "code",
   "execution_count": 19,
   "metadata": {},
   "outputs": [
    {
     "data": {
      "text/html": [
       "<div>\n",
       "<style>\n",
       "    .dataframe thead tr:only-child th {\n",
       "        text-align: right;\n",
       "    }\n",
       "\n",
       "    .dataframe thead th {\n",
       "        text-align: left;\n",
       "    }\n",
       "\n",
       "    .dataframe tbody tr th {\n",
       "        vertical-align: top;\n",
       "    }\n",
       "</style>\n",
       "<table border=\"1\" class=\"dataframe\">\n",
       "  <thead>\n",
       "    <tr style=\"text-align: right;\">\n",
       "      <th></th>\n",
       "      <th>Fiscal Year</th>\n",
       "      <th>Agency Name</th>\n",
       "      <th>Last Name</th>\n",
       "      <th>First Name</th>\n",
       "      <th>Mid Init</th>\n",
       "      <th>Agency Start Date</th>\n",
       "      <th>Work Location Borough</th>\n",
       "      <th>Title Description</th>\n",
       "      <th>Leave Status as of June 30</th>\n",
       "      <th>Base Salary</th>\n",
       "      <th>Pay Basis</th>\n",
       "      <th>Regular Hours</th>\n",
       "      <th>Regular Gross Paid</th>\n",
       "      <th>OT Hours</th>\n",
       "      <th>Total OT Paid</th>\n",
       "      <th>Total Other Pay</th>\n",
       "    </tr>\n",
       "  </thead>\n",
       "  <tbody>\n",
       "    <tr>\n",
       "      <th>0</th>\n",
       "      <td>2016</td>\n",
       "      <td>DISTRICT ATTORNEY-MANHATTAN</td>\n",
       "      <td>ABA'AHMID</td>\n",
       "      <td>RAHASHEEM</td>\n",
       "      <td>E</td>\n",
       "      <td>07/14/2003</td>\n",
       "      <td>MANHATTAN</td>\n",
       "      <td>COMMUNITY ASSOCIATE                           ...</td>\n",
       "      <td>ACTIVE</td>\n",
       "      <td>$47678.00</td>\n",
       "      <td>per Annum</td>\n",
       "      <td>1830</td>\n",
       "      <td>$47166.03</td>\n",
       "      <td>2.25</td>\n",
       "      <td>$57.28</td>\n",
       "      <td>$0.00</td>\n",
       "    </tr>\n",
       "    <tr>\n",
       "      <th>1</th>\n",
       "      <td>2016</td>\n",
       "      <td>DISTRICT ATTORNEY-MANHATTAN</td>\n",
       "      <td>ABENSUR</td>\n",
       "      <td>MARGARET</td>\n",
       "      <td>NaN</td>\n",
       "      <td>06/12/1995</td>\n",
       "      <td>MANHATTAN</td>\n",
       "      <td>ADMINISTRATIVE ACCOUNTANT                     ...</td>\n",
       "      <td>ACTIVE</td>\n",
       "      <td>$119959.00</td>\n",
       "      <td>per Annum</td>\n",
       "      <td>1831</td>\n",
       "      <td>$119042.50</td>\n",
       "      <td>0</td>\n",
       "      <td>$0.00</td>\n",
       "      <td>$0.00</td>\n",
       "    </tr>\n",
       "    <tr>\n",
       "      <th>2</th>\n",
       "      <td>2016</td>\n",
       "      <td>DISTRICT ATTORNEY-MANHATTAN</td>\n",
       "      <td>ABOUNAOUM</td>\n",
       "      <td>ANDREA</td>\n",
       "      <td>L</td>\n",
       "      <td>10/11/2011</td>\n",
       "      <td>MANHATTAN</td>\n",
       "      <td>COMMUNITY ASSOCIATE                           ...</td>\n",
       "      <td>ON LEAVE</td>\n",
       "      <td>$39966.00</td>\n",
       "      <td>per Annum</td>\n",
       "      <td>1181.68</td>\n",
       "      <td>$27452.62</td>\n",
       "      <td>1</td>\n",
       "      <td>$21.34</td>\n",
       "      <td>$33.00</td>\n",
       "    </tr>\n",
       "    <tr>\n",
       "      <th>3</th>\n",
       "      <td>2016</td>\n",
       "      <td>DISTRICT ATTORNEY-MANHATTAN</td>\n",
       "      <td>ABRAHAM</td>\n",
       "      <td>JONATHAN</td>\n",
       "      <td>J</td>\n",
       "      <td>12/01/2014</td>\n",
       "      <td>MANHATTAN</td>\n",
       "      <td>COMPUTER SYSTEMS MANAGER                      ...</td>\n",
       "      <td>ACTIVE</td>\n",
       "      <td>$116000.00</td>\n",
       "      <td>per Annum</td>\n",
       "      <td>1831</td>\n",
       "      <td>$115104.57</td>\n",
       "      <td>0</td>\n",
       "      <td>$0.00</td>\n",
       "      <td>$0.00</td>\n",
       "    </tr>\n",
       "    <tr>\n",
       "      <th>4</th>\n",
       "      <td>2016</td>\n",
       "      <td>DISTRICT ATTORNEY-MANHATTAN</td>\n",
       "      <td>ABRAMS</td>\n",
       "      <td>JOSEPH</td>\n",
       "      <td>NaN</td>\n",
       "      <td>05/21/2015</td>\n",
       "      <td>MANHATTAN</td>\n",
       "      <td>COLLEGE AIDE                                  ...</td>\n",
       "      <td>CEASED</td>\n",
       "      <td>$1.00</td>\n",
       "      <td>per Hour</td>\n",
       "      <td>0</td>\n",
       "      <td>$3500.00</td>\n",
       "      <td>0</td>\n",
       "      <td>$0.00</td>\n",
       "      <td>$0.00</td>\n",
       "    </tr>\n",
       "  </tbody>\n",
       "</table>\n",
       "</div>"
      ],
      "text/plain": [
       "  Fiscal Year                     Agency Name  Last Name First Name Mid Init  \\\n",
       "0        2016  DISTRICT ATTORNEY-MANHATTAN     ABA'AHMID  RAHASHEEM        E   \n",
       "1        2016  DISTRICT ATTORNEY-MANHATTAN       ABENSUR   MARGARET      NaN   \n",
       "2        2016  DISTRICT ATTORNEY-MANHATTAN     ABOUNAOUM     ANDREA        L   \n",
       "3        2016  DISTRICT ATTORNEY-MANHATTAN       ABRAHAM   JONATHAN        J   \n",
       "4        2016  DISTRICT ATTORNEY-MANHATTAN        ABRAMS     JOSEPH      NaN   \n",
       "\n",
       "  Agency Start Date Work Location Borough  \\\n",
       "0        07/14/2003         MANHATTAN       \n",
       "1        06/12/1995         MANHATTAN       \n",
       "2        10/11/2011         MANHATTAN       \n",
       "3        12/01/2014         MANHATTAN       \n",
       "4        05/21/2015         MANHATTAN       \n",
       "\n",
       "                                   Title Description  \\\n",
       "0  COMMUNITY ASSOCIATE                           ...   \n",
       "1  ADMINISTRATIVE ACCOUNTANT                     ...   \n",
       "2  COMMUNITY ASSOCIATE                           ...   \n",
       "3  COMPUTER SYSTEMS MANAGER                      ...   \n",
       "4  COLLEGE AIDE                                  ...   \n",
       "\n",
       "  Leave Status as of June 30 Base Salary   Pay Basis Regular Hours  \\\n",
       "0                     ACTIVE   $47678.00   per Annum          1830   \n",
       "1                     ACTIVE  $119959.00   per Annum          1831   \n",
       "2                   ON LEAVE   $39966.00   per Annum       1181.68   \n",
       "3                     ACTIVE  $116000.00   per Annum          1831   \n",
       "4                     CEASED       $1.00    per Hour             0   \n",
       "\n",
       "  Regular Gross Paid OT Hours Total OT Paid Total Other Pay  \n",
       "0          $47166.03     2.25        $57.28           $0.00  \n",
       "1         $119042.50        0         $0.00           $0.00  \n",
       "2          $27452.62        1        $21.34          $33.00  \n",
       "3         $115104.57        0         $0.00           $0.00  \n",
       "4           $3500.00        0         $0.00           $0.00  "
      ]
     },
     "execution_count": 19,
     "metadata": {},
     "output_type": "execute_result"
    }
   ],
   "source": [
    "import pandas as pd\n",
    "#import numpy as np\n",
    "#import matplotlib.pyplot as plt\n",
    "\n",
    "my_df = pd.read_csv('mytest_csvfile.csv',dtype='unicode') # sep=',', index_col='Last Name'\n",
    "my_df"
   ]
  },
  {
   "cell_type": "code",
   "execution_count": 43,
   "metadata": {},
   "outputs": [
    {
     "data": {
      "text/plain": [
       "['2016', '2016', '2016', '2016', '2016']"
      ]
     },
     "execution_count": 43,
     "metadata": {},
     "output_type": "execute_result"
    }
   ],
   "source": [
    "list(my_df['Fiscal Year'])"
   ]
  },
  {
   "cell_type": "code",
   "execution_count": 49,
   "metadata": {},
   "outputs": [
    {
     "data": {
      "text/plain": [
       "[2016, 2016, 2016, 2016, 2016]"
      ]
     },
     "execution_count": 49,
     "metadata": {},
     "output_type": "execute_result"
    }
   ],
   "source": [
    "# my_lst=list(my_df['Fiscal Year'])\n",
    "[int(i) for i in my_df['Fiscal Year']]"
   ]
  },
  {
   "cell_type": "code",
   "execution_count": 48,
   "metadata": {},
   "outputs": [
    {
     "data": {
      "text/plain": [
       "[2016, 2016, 2016, 2016, 2016]"
      ]
     },
     "execution_count": 48,
     "metadata": {},
     "output_type": "execute_result"
    }
   ],
   "source": [
    "list(map(int, my_df['Fiscal Year']))"
   ]
  },
  {
   "cell_type": "code",
   "execution_count": 33,
   "metadata": {},
   "outputs": [
    {
     "data": {
      "text/html": [
       "<div>\n",
       "<style>\n",
       "    .dataframe thead tr:only-child th {\n",
       "        text-align: right;\n",
       "    }\n",
       "\n",
       "    .dataframe thead th {\n",
       "        text-align: left;\n",
       "    }\n",
       "\n",
       "    .dataframe tbody tr th {\n",
       "        vertical-align: top;\n",
       "    }\n",
       "</style>\n",
       "<table border=\"1\" class=\"dataframe\">\n",
       "  <thead>\n",
       "    <tr style=\"text-align: right;\">\n",
       "      <th></th>\n",
       "      <th>Fiscal Year</th>\n",
       "      <th>Agency Name</th>\n",
       "      <th>Last Name</th>\n",
       "      <th>First Name</th>\n",
       "      <th>Mid Init</th>\n",
       "      <th>Agency Start Date</th>\n",
       "      <th>Work Location Borough</th>\n",
       "      <th>Title Description</th>\n",
       "      <th>Leave Status as of June 30</th>\n",
       "      <th>Base Salary</th>\n",
       "      <th>Pay Basis</th>\n",
       "      <th>Regular Hours</th>\n",
       "      <th>Regular Gross Paid</th>\n",
       "      <th>OT Hours</th>\n",
       "      <th>Total OT Paid</th>\n",
       "      <th>Total Other Pay</th>\n",
       "    </tr>\n",
       "  </thead>\n",
       "  <tbody>\n",
       "    <tr>\n",
       "      <th>0</th>\n",
       "      <td>2016</td>\n",
       "      <td>DISTRICT ATTORNEY-MANHATTAN</td>\n",
       "      <td>ABA'AHMID</td>\n",
       "      <td>RAHASHEEM</td>\n",
       "      <td>E</td>\n",
       "      <td>07/14/2003</td>\n",
       "      <td>MANHATTAN</td>\n",
       "      <td>COMMUNITY ASSOCIATE                           ...</td>\n",
       "      <td>ACTIVE</td>\n",
       "      <td>$47678.00</td>\n",
       "      <td>per Annum</td>\n",
       "      <td>1830</td>\n",
       "      <td>$47166.03</td>\n",
       "      <td>2.25</td>\n",
       "      <td>$57.28</td>\n",
       "      <td>$0.00</td>\n",
       "    </tr>\n",
       "    <tr>\n",
       "      <th>1</th>\n",
       "      <td>2016</td>\n",
       "      <td>DISTRICT ATTORNEY-MANHATTAN</td>\n",
       "      <td>ABENSUR</td>\n",
       "      <td>MARGARET</td>\n",
       "      <td>NaN</td>\n",
       "      <td>06/12/1995</td>\n",
       "      <td>MANHATTAN</td>\n",
       "      <td>ADMINISTRATIVE ACCOUNTANT                     ...</td>\n",
       "      <td>ACTIVE</td>\n",
       "      <td>$119959.00</td>\n",
       "      <td>per Annum</td>\n",
       "      <td>1831</td>\n",
       "      <td>$119042.50</td>\n",
       "      <td>0</td>\n",
       "      <td>$0.00</td>\n",
       "      <td>$0.00</td>\n",
       "    </tr>\n",
       "  </tbody>\n",
       "</table>\n",
       "</div>"
      ],
      "text/plain": [
       "  Fiscal Year                     Agency Name  Last Name First Name Mid Init  \\\n",
       "0        2016  DISTRICT ATTORNEY-MANHATTAN     ABA'AHMID  RAHASHEEM        E   \n",
       "1        2016  DISTRICT ATTORNEY-MANHATTAN       ABENSUR   MARGARET      NaN   \n",
       "\n",
       "  Agency Start Date Work Location Borough  \\\n",
       "0        07/14/2003         MANHATTAN       \n",
       "1        06/12/1995         MANHATTAN       \n",
       "\n",
       "                                   Title Description  \\\n",
       "0  COMMUNITY ASSOCIATE                           ...   \n",
       "1  ADMINISTRATIVE ACCOUNTANT                     ...   \n",
       "\n",
       "  Leave Status as of June 30 Base Salary   Pay Basis Regular Hours  \\\n",
       "0                     ACTIVE   $47678.00   per Annum          1830   \n",
       "1                     ACTIVE  $119959.00   per Annum          1831   \n",
       "\n",
       "  Regular Gross Paid OT Hours Total OT Paid Total Other Pay  \n",
       "0          $47166.03     2.25        $57.28           $0.00  \n",
       "1         $119042.50        0         $0.00           $0.00  "
      ]
     },
     "execution_count": 33,
     "metadata": {},
     "output_type": "execute_result"
    }
   ],
   "source": [
    "my_df.head(2)\n",
    "#my_df.tail(3)"
   ]
  },
  {
   "cell_type": "code",
   "execution_count": 31,
   "metadata": {},
   "outputs": [
    {
     "data": {
      "text/plain": [
       "0    COMMUNITY ASSOCIATE                           ...\n",
       "1    ADMINISTRATIVE ACCOUNTANT                     ...\n",
       "Name: Title Description, dtype: object"
      ]
     },
     "execution_count": 31,
     "metadata": {},
     "output_type": "execute_result"
    }
   ],
   "source": [
    "my_df[:2]['Title Description'] # direction has no affects"
   ]
  },
  {
   "cell_type": "code",
   "execution_count": 93,
   "metadata": {},
   "outputs": [
    {
     "data": {
      "text/plain": [
       "Index(['Fiscal Year', 'Agency Name', 'Last Name', 'First Name', 'Mid Init', 'Agency Start Date', 'Work Location Borough', 'Title Description', 'Leave Status as of June 30', 'Base Salary', 'Pay Basis', 'Regular Hours', 'Regular Gross Paid', 'OT Hours', 'Total OT Paid', 'Total Other Pay'], dtype='object')"
      ]
     },
     "execution_count": 93,
     "metadata": {},
     "output_type": "execute_result"
    }
   ],
   "source": [
    "# display fields\n",
    "my_df.columns"
   ]
  },
  {
   "cell_type": "code",
   "execution_count": 29,
   "metadata": {},
   "outputs": [
    {
     "data": {
      "text/html": [
       "<div>\n",
       "<style>\n",
       "    .dataframe thead tr:only-child th {\n",
       "        text-align: right;\n",
       "    }\n",
       "\n",
       "    .dataframe thead th {\n",
       "        text-align: left;\n",
       "    }\n",
       "\n",
       "    .dataframe tbody tr th {\n",
       "        vertical-align: top;\n",
       "    }\n",
       "</style>\n",
       "<table border=\"1\" class=\"dataframe\">\n",
       "  <thead>\n",
       "    <tr style=\"text-align: right;\">\n",
       "      <th></th>\n",
       "      <th>Fiscal Year</th>\n",
       "      <th>Agency Name</th>\n",
       "      <th>Last Name</th>\n",
       "    </tr>\n",
       "  </thead>\n",
       "  <tbody>\n",
       "    <tr>\n",
       "      <th>0</th>\n",
       "      <td>2016</td>\n",
       "      <td>DISTRICT ATTORNEY-MANHATTAN</td>\n",
       "      <td>ABA'AHMID</td>\n",
       "    </tr>\n",
       "    <tr>\n",
       "      <th>1</th>\n",
       "      <td>2016</td>\n",
       "      <td>DISTRICT ATTORNEY-MANHATTAN</td>\n",
       "      <td>ABENSUR</td>\n",
       "    </tr>\n",
       "    <tr>\n",
       "      <th>2</th>\n",
       "      <td>2016</td>\n",
       "      <td>DISTRICT ATTORNEY-MANHATTAN</td>\n",
       "      <td>ABOUNAOUM</td>\n",
       "    </tr>\n",
       "  </tbody>\n",
       "</table>\n",
       "</div>"
      ],
      "text/plain": [
       "  Fiscal Year                     Agency Name  Last Name\n",
       "0        2016  DISTRICT ATTORNEY-MANHATTAN     ABA'AHMID\n",
       "1        2016  DISTRICT ATTORNEY-MANHATTAN       ABENSUR\n",
       "2        2016  DISTRICT ATTORNEY-MANHATTAN     ABOUNAOUM"
      ]
     },
     "execution_count": 29,
     "metadata": {},
     "output_type": "execute_result"
    }
   ],
   "source": [
    "# display first 3 columns\n",
    "my_df[:3][my_df.columns[:3]]"
   ]
  },
  {
   "cell_type": "code",
   "execution_count": 78,
   "metadata": {},
   "outputs": [
    {
     "data": {
      "text/plain": [
       "DatetimeIndex(['2011-01-01 00:00:00', '2011-01-01 01:00:00', '2011-01-01 02:00:00', '2011-01-01 03:00:00', '2011-01-01 04:00:00'], dtype='datetime64[ns]', freq='H')"
      ]
     },
     "execution_count": 78,
     "metadata": {},
     "output_type": "execute_result"
    }
   ],
   "source": [
    "rng = pd.date_range('1/1/2011', periods=72, freq='H')\n",
    "rng[:5]"
   ]
  },
  {
   "cell_type": "markdown",
   "metadata": {},
   "source": [
    "# Data Structure\n",
    "\n",
    "#### Load data into a list of records, and each record is a list of fields"
   ]
  },
  {
   "cell_type": "code",
   "execution_count": 9,
   "metadata": {},
   "outputs": [
    {
     "data": {
      "text/plain": [
       "[[2016, 2016, 2016, 2016, 2016],\n",
       " ['DISTRICT ATTORNEY-MANHATTAN   ',\n",
       "  'DISTRICT ATTORNEY-MANHATTAN   ',\n",
       "  'DISTRICT ATTORNEY-MANHATTAN   ',\n",
       "  'DISTRICT ATTORNEY-MANHATTAN   ',\n",
       "  'DISTRICT ATTORNEY-MANHATTAN   '],\n",
       " [\"ABA'AHMID\", 'ABENSUR', 'ABOUNAOUM', 'ABRAHAM', 'ABRAMS'],\n",
       " ['RAHASHEEM', 'MARGARET', 'ANDREA', 'JONATHAN', 'JOSEPH'],\n",
       " ['E', nan, 'L', 'J', nan],\n",
       " ['07/14/2003', '06/12/1995', '10/11/2011', '12/01/2014', '05/21/2015'],\n",
       " ['MANHATTAN    ',\n",
       "  'MANHATTAN    ',\n",
       "  'MANHATTAN    ',\n",
       "  'MANHATTAN    ',\n",
       "  'MANHATTAN    '],\n",
       " ['COMMUNITY ASSOCIATE                                         ',\n",
       "  'ADMINISTRATIVE ACCOUNTANT                                   ',\n",
       "  'COMMUNITY ASSOCIATE                                         ',\n",
       "  'COMPUTER SYSTEMS MANAGER                                    ',\n",
       "  'COLLEGE AIDE                                                '],\n",
       " ['ACTIVE', 'ACTIVE', 'ON LEAVE', 'ACTIVE', 'CEASED'],\n",
       " ['$47678.00', '$119959.00', '$39966.00', '$116000.00', '$1.00'],\n",
       " [' per Annum', ' per Annum', ' per Annum', ' per Annum', ' per Hour'],\n",
       " [1830.0, 1831.0, 1181.6800000000001, 1831.0, 0.0],\n",
       " ['$47166.03', '$119042.50', '$27452.62', '$115104.57', '$3500.00'],\n",
       " [2.25, 0.0, 1.0, 0.0, 0.0],\n",
       " ['$57.28', '$0.00', '$21.34', '$0.00', '$0.00'],\n",
       " ['$0.00', '$0.00', '$33.00', '$0.00', '$0.00']]"
      ]
     },
     "execution_count": 9,
     "metadata": {},
     "output_type": "execute_result"
    }
   ],
   "source": [
    "import pandas as pd\n",
    "\n",
    "my_df = pd.read_csv('mytest_csvfile.csv')\n",
    "my_lst = []\n",
    "\n",
    "my_lst = [list(my_df[col]) for col in my_df.columns]\n",
    "my_lst"
   ]
  },
  {
   "cell_type": "markdown",
   "metadata": {},
   "source": [
    "#### Load data into a list of dictionary"
   ]
  },
  {
   "cell_type": "code",
   "execution_count": 10,
   "metadata": {},
   "outputs": [
    {
     "data": {
      "text/plain": [
       "{'Agency Name': ['DISTRICT ATTORNEY-MANHATTAN   ',\n",
       "  'DISTRICT ATTORNEY-MANHATTAN   ',\n",
       "  'DISTRICT ATTORNEY-MANHATTAN   ',\n",
       "  'DISTRICT ATTORNEY-MANHATTAN   ',\n",
       "  'DISTRICT ATTORNEY-MANHATTAN   '],\n",
       " 'Agency Start Date': ['07/14/2003',\n",
       "  '06/12/1995',\n",
       "  '10/11/2011',\n",
       "  '12/01/2014',\n",
       "  '05/21/2015'],\n",
       " 'Base Salary': ['$47678.00',\n",
       "  '$119959.00',\n",
       "  '$39966.00',\n",
       "  '$116000.00',\n",
       "  '$1.00'],\n",
       " 'First Name': ['RAHASHEEM', 'MARGARET', 'ANDREA', 'JONATHAN', 'JOSEPH'],\n",
       " 'Fiscal Year': [2016, 2016, 2016, 2016, 2016],\n",
       " 'Last Name': [\"ABA'AHMID\", 'ABENSUR', 'ABOUNAOUM', 'ABRAHAM', 'ABRAMS'],\n",
       " 'Leave Status as of June 30': ['ACTIVE',\n",
       "  'ACTIVE',\n",
       "  'ON LEAVE',\n",
       "  'ACTIVE',\n",
       "  'CEASED'],\n",
       " 'Mid Init': ['E', nan, 'L', 'J', nan],\n",
       " 'OT Hours': [2.25, 0.0, 1.0, 0.0, 0.0],\n",
       " 'Pay Basis': [' per Annum',\n",
       "  ' per Annum',\n",
       "  ' per Annum',\n",
       "  ' per Annum',\n",
       "  ' per Hour'],\n",
       " 'Regular Gross Paid': ['$47166.03',\n",
       "  '$119042.50',\n",
       "  '$27452.62',\n",
       "  '$115104.57',\n",
       "  '$3500.00'],\n",
       " 'Regular Hours': [1830.0, 1831.0, 1181.6800000000001, 1831.0, 0.0],\n",
       " 'Title Description': ['COMMUNITY ASSOCIATE                                         ',\n",
       "  'ADMINISTRATIVE ACCOUNTANT                                   ',\n",
       "  'COMMUNITY ASSOCIATE                                         ',\n",
       "  'COMPUTER SYSTEMS MANAGER                                    ',\n",
       "  'COLLEGE AIDE                                                '],\n",
       " 'Total OT Paid': ['$57.28', '$0.00', '$21.34', '$0.00', '$0.00'],\n",
       " 'Total Other Pay': ['$0.00', '$0.00', '$33.00', '$0.00', '$0.00'],\n",
       " 'Work Location Borough': ['MANHATTAN    ',\n",
       "  'MANHATTAN    ',\n",
       "  'MANHATTAN    ',\n",
       "  'MANHATTAN    ',\n",
       "  'MANHATTAN    ']}"
      ]
     },
     "execution_count": 10,
     "metadata": {},
     "output_type": "execute_result"
    }
   ],
   "source": [
    "import pandas as pd\n",
    "\n",
    "my_df = pd.read_csv('mytest_csvfile.csv')\n",
    "\n",
    "my_dict = {col:list(my_df[col]) for col in my_df.columns}\n",
    "my_dict"
   ]
  },
  {
   "cell_type": "markdown",
   "metadata": {},
   "source": [
    "# Define a function and call it. For example, define a function that removes ‘$’ and ‘,’ in a salary string and convert it to float type."
   ]
  },
  {
   "cell_type": "code",
   "execution_count": 16,
   "metadata": {
    "collapsed": true
   },
   "outputs": [],
   "source": [
    "# using ''.join to remove perticular characters\n",
    "\n",
    "import pandas as pd\n",
    "\n",
    "my_df = pd.read_csv('mytest_csvfile.csv')\n",
    "\n",
    "def str2float(str_lst):\n",
    "    '''removes $ in a salary string and convert it to float type'''\n",
    "\n",
    "    float_lst = []\n",
    "    for x in str_lst:\n",
    "        float_lst.append(float(''.join(c for c in x if c not in ',$')))\n",
    "    return float_lst"
   ]
  },
  {
   "cell_type": "code",
   "execution_count": 4,
   "metadata": {
    "collapsed": true
   },
   "outputs": [],
   "source": [
    "# using .replace to remove perticular characters, more efficient solution?\n",
    "\n",
    "import pandas as pd\n",
    "\n",
    "my_df = pd.read_csv('mytest_csvfile.csv',dtype='str')\n",
    "\n",
    "def str2float(str_lst):\n",
    "    '''removes $ in a salary string and convert it to float type'''\n",
    "\n",
    "    float_lst = []\n",
    "    \n",
    "    for x in str_lst:\n",
    "        float_lst.append(float(x.replace('$','').replace(',','')))\n",
    "    return float_lst"
   ]
  },
  {
   "cell_type": "code",
   "execution_count": 5,
   "metadata": {},
   "outputs": [
    {
     "data": {
      "text/plain": [
       "[5007.28, 0.0, 21000.34, 0.0, 0.0]"
      ]
     },
     "execution_count": 5,
     "metadata": {},
     "output_type": "execute_result"
    }
   ],
   "source": [
    "str_lst=['$5,007.28', '$0.00', '$21,000.34', '$0.00', '$0.00']\n",
    "str2float(str_lst)"
   ]
  },
  {
   "cell_type": "code",
   "execution_count": 67,
   "metadata": {},
   "outputs": [
    {
     "data": {
      "text/plain": [
       "[47678.0, 119959.0, 39966.0, 116000.0, 1.0]"
      ]
     },
     "execution_count": 67,
     "metadata": {},
     "output_type": "execute_result"
    }
   ],
   "source": [
    "str2float(list(my_df['Base Salary']))"
   ]
  },
  {
   "cell_type": "code",
   "execution_count": 19,
   "metadata": {},
   "outputs": [
    {
     "data": {
      "text/plain": [
       "0     $47678.00\n",
       "1    $119959.00\n",
       "2     $39966.00\n",
       "3    $116000.00\n",
       "4         $1.00\n",
       "Name: Base Salary, dtype: object"
      ]
     },
     "execution_count": 19,
     "metadata": {},
     "output_type": "execute_result"
    }
   ],
   "source": [
    "my_df['Base Salary']"
   ]
  },
  {
   "cell_type": "code",
   "execution_count": 58,
   "metadata": {},
   "outputs": [
    {
     "data": {
      "text/plain": [
       "[5007.28, 0.0, 21000.34, 0.0, 0.0]"
      ]
     },
     "execution_count": 58,
     "metadata": {},
     "output_type": "execute_result"
    }
   ],
   "source": [
    "# another trial: using map to float strings (slow???)\n",
    "\n",
    "def str2float(str_lst):\n",
    "    '''removes $ in a salary string and convert it to float type'''\n",
    "\n",
    "    float_lst = []\n",
    "    \n",
    "    for x in str_lst:\n",
    "        float_lst.append(x.replace('$','').replace(',',''))\n",
    "    \n",
    "    float_lst=list(map(float,float_lst))\n",
    "    \n",
    "    return float_lst\n",
    "\n",
    "str_lst=['$5,007.28', '$0.00', '$21,000.34', '$0.00', '$0.00']\n",
    "str2float(str_lst)"
   ]
  },
  {
   "cell_type": "code",
   "execution_count": 74,
   "metadata": {},
   "outputs": [
    {
     "data": {
      "text/plain": [
       "[5007.28, 0.0, 21000.34, 0.0, 0.0]"
      ]
     },
     "execution_count": 74,
     "metadata": {},
     "output_type": "execute_result"
    }
   ],
   "source": [
    "# another trial: using for loop to float strings (slow,slow,very slow)\n",
    "\n",
    "str_lst=['$5,007.28', '$0.00', '$21,000.34', '$0.00', '$0.00']\n",
    "float_lst = []  \n",
    "for x in str_lst:\n",
    "    float_lst.append(x.replace('$','').replace(',',''))\n",
    "float_lst=[float(i) for i in float_lst]\n",
    "float_lst"
   ]
  },
  {
   "cell_type": "code",
   "execution_count": 73,
   "metadata": {},
   "outputs": [
    {
     "data": {
      "text/plain": [
       "[<generator object <genexpr> at 0x0000020C0322B938>]"
      ]
     },
     "execution_count": 73,
     "metadata": {},
     "output_type": "execute_result"
    }
   ],
   "source": [
    "# what if not using for loop\n",
    "\n",
    "str_lst=['$5,007.28', '$0.00', '$21,000.34', '$0.00', '$0.00']\n",
    "float_lst = []  \n",
    "float_lst.append(x.replace('$','').replace(',','') for x in str_lst)\n",
    "#float_lst=[float(i) for i in float_lst]\n",
    "float_lst"
   ]
  },
  {
   "cell_type": "code",
   "execution_count": 78,
   "metadata": {},
   "outputs": [
    {
     "name": "stdout",
     "output_type": "stream",
     "text": [
      "0:00:00\n"
     ]
    }
   ],
   "source": [
    "#calculate program run time using datetime\n",
    "\n",
    "from datetime import datetime\n",
    "start=datetime.now()\n",
    "\n",
    "#Statements\n",
    "\n",
    "print (datetime.now()-start)"
   ]
  },
  {
   "cell_type": "code",
   "execution_count": 80,
   "metadata": {},
   "outputs": [
    {
     "name": "stdout",
     "output_type": "stream",
     "text": [
      "9.53018159641772e-05\n"
     ]
    }
   ],
   "source": [
    "#calculate program run time, using timeit\n",
    "import timeit\n",
    "\n",
    "start = timeit.default_timer()\n",
    "\n",
    "#Your statements here\n",
    "\n",
    "stop = timeit.default_timer()\n",
    "\n",
    "print (stop - start)\n"
   ]
  },
  {
   "cell_type": "code",
   "execution_count": null,
   "metadata": {
    "collapsed": true
   },
   "outputs": [],
   "source": []
  },
  {
   "cell_type": "code",
   "execution_count": null,
   "metadata": {
    "collapsed": true
   },
   "outputs": [],
   "source": []
  }
 ],
 "metadata": {
  "kernelspec": {
   "display_name": "Python 3",
   "language": "python",
   "name": "python3"
  },
  "language_info": {
   "codemirror_mode": {
    "name": "ipython",
    "version": 3
   },
   "file_extension": ".py",
   "mimetype": "text/x-python",
   "name": "python",
   "nbconvert_exporter": "python",
   "pygments_lexer": "ipython3",
   "version": "3.6.3"
  }
 },
 "nbformat": 4,
 "nbformat_minor": 2
}
